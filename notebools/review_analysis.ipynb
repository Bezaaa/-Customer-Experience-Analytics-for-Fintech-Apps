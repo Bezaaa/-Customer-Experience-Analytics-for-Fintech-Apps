{
 "cells": [
  {
   "cell_type": "code",
   "execution_count": null,
   "id": "540fb5e9",
   "metadata": {},
   "outputs": [
    {
     "name": "stderr",
     "output_type": "stream",
     "text": [
      "[nltk_data] Downloading package stopwords to\n",
      "[nltk_data]     C:\\Users\\bezat\\AppData\\Roaming\\nltk_data...\n",
      "[nltk_data]   Package stopwords is already up-to-date!\n"
     ]
    },
    {
     "name": "stdout",
     "output_type": "stream",
     "text": [
      "✅ Analysis complete. Saved to data/reviews_with_sentiment_themes.csv\n",
      "\n",
      "Sample theme keywords by bank:\n",
      "CBE: ['app', 'good', 'best', 'nice', 'cbe', 'like', 'bank', 'great', 'good app', 'screenshot']\n",
      "Dashen: ['app', 'dashen', 'super', 'best', 'bank', 'banking', 'dashen bank', 'one', 'amazing', 'good']\n",
      "BOA: ['app', 'work', 'bank', 'good', 'boa', 'working', 'worst', 'please', 'banking', 'use']\n"
     ]
    }
   ],
   "source": [
    "import pandas as pd\n",
    "from vaderSentiment.vaderSentiment import SentimentIntensityAnalyzer\n",
    "from sklearn.feature_extraction.text import TfidfVectorizer\n",
    "import nltk\n",
    "from nltk.corpus import stopwords\n",
    "import re\n",
    "import os\n",
    "\n",
    "nltk.download('stopwords')\n",
    "\n",
    "\n",
    "df = pd.read_csv(\"../data/bank_reviews.csv\")\n",
    "\n",
    "analyzer = SentimentIntensityAnalyzer()\n",
    "\n",
    "# Sentiment Analysis function\n",
    "def get_sentiment_label(score):\n",
    "    if score >= 0.05:\n",
    "        return 'positive'\n",
    "    elif score <= -0.05:\n",
    "        return 'negative'\n",
    "    else:\n",
    "        return 'neutral'\n",
    "\n",
    "# Compute sentiment scores & labels\n",
    "df['sentiment_score'] = df['review'].apply(lambda x: analyzer.polarity_scores(str(x))['compound'])\n",
    "df['sentiment_label'] = df['sentiment_score'].apply(get_sentiment_label)\n",
    "\n",
    "\n",
    "stop_words = set(stopwords.words('english'))\n",
    "\n",
    "def preprocess(text):\n",
    "    text = str(text).lower()\n",
    "    text = re.sub(r'[^a-z\\s]', '', text)  \n",
    "    tokens = text.split()\n",
    "    tokens = [word for word in tokens if word not in stop_words and len(word) > 2]\n",
    "    return \" \".join(tokens)\n",
    "\n",
    "df['clean_review'] = df['review'].apply(preprocess)\n",
    "\n",
    "# TF-IDF vectorizer to extract keywords/ngrams\n",
    "vectorizer = TfidfVectorizer(ngram_range=(1,2), max_features=100)\n",
    "tfidf_matrix = vectorizer.fit_transform(df['clean_review'])\n",
    "\n",
    "\n",
    "keywords = vectorizer.get_feature_names_out()\n",
    "\n",
    "\n",
    "bank_keywords = {}\n",
    "for bank in df['bank'].unique():\n",
    "    idxs = df[df['bank'] == bank].index\n",
    "    bank_tfidf = tfidf_matrix[idxs,:].mean(axis=0).A1  \n",
    "    top_indices = bank_tfidf.argsort()[::-1][:10]  \n",
    "    bank_keywords[bank] = [keywords[i] for i in top_indices]\n",
    "\n",
    "themes = {\n",
    "    \"CBE\": {\n",
    "        \"Account Access Issues\": [\"login\", \"password\", \"error\", \"account\", \"fail\"],\n",
    "        \"Transaction Performance\": [\"slow\", \"transfer\", \"loading\", \"payment\", \"delay\"],\n",
    "        \"User Interface\": [\"ui\", \"interface\", \"easy\", \"design\", \"navigation\"]\n",
    "    },\n",
    "    \"Dashen\": {\n",
    "        \"Performance\": [\"slow\", \"loading\", \"crash\", \"lag\", \"freeze\"],\n",
    "        \"Support\": [\"customer\", \"support\", \"help\", \"service\"],\n",
    "        \"Features\": [\"fingerprint\", \"login\", \"feature\", \"update\", \"option\"]\n",
    "    },\n",
    "    \"BOA\": {\n",
    "        \"App Stability\": [\"crash\", \"bug\", \"error\", \"freeze\", \"unresponsive\"],\n",
    "        \"Transaction Issues\": [\"transfer\", \"payment\", \"delay\", \"fail\", \"processing\"],\n",
    "        \"User Experience\": [\"ui\", \"design\", \"easy\", \"interface\", \"simple\"]\n",
    "    }\n",
    "}\n",
    "\n",
    "\n",
    "# Function to assign themes to reviews based on presence of theme keywords\n",
    "def assign_themes(review, bank):\n",
    "    review = review.lower()\n",
    "    assigned = []\n",
    "    for theme, keywords_list in themes[bank].items():\n",
    "        if any(kw in review for kw in keywords_list):\n",
    "            assigned.append(theme)\n",
    "    if not assigned:\n",
    "        assigned.append(\"Other\")\n",
    "    return \", \".join(assigned)\n",
    "\n",
    "df['themes'] = df.apply(lambda row: assign_themes(row['review'], row['bank']), axis=1)\n",
    "\n",
    "# Save results CSV\n",
    "os.makedirs(\"data\", exist_ok=True)\n",
    "df.to_csv(\"data/reviews_with_sentiment_themes.csv\", index=False)\n",
    "\n",
    "print(\"✅ Analysis complete. Saved to data/reviews_with_sentiment_themes.csv\")\n",
    "print(\"\\nSample theme keywords by bank:\")\n",
    "for bank, kws in bank_keywords.items():\n",
    "    print(f\"{bank}: {kws}\")\n"
   ]
  },
  {
   "cell_type": "code",
   "execution_count": 6,
   "id": "4bee3a3d",
   "metadata": {},
   "outputs": [
    {
     "name": "stdout",
     "output_type": "stream",
     "text": [
      "['CBE' 'Dashen' 'BOA']\n"
     ]
    }
   ],
   "source": [
    "print(df['bank'].unique())\n"
   ]
  }
 ],
 "metadata": {
  "kernelspec": {
   "display_name": "Python 3",
   "language": "python",
   "name": "python3"
  },
  "language_info": {
   "codemirror_mode": {
    "name": "ipython",
    "version": 3
   },
   "file_extension": ".py",
   "mimetype": "text/x-python",
   "name": "python",
   "nbconvert_exporter": "python",
   "pygments_lexer": "ipython3",
   "version": "3.13.3"
  }
 },
 "nbformat": 4,
 "nbformat_minor": 5
}
